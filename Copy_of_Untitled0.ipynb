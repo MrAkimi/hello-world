{
  "nbformat": 4,
  "nbformat_minor": 0,
  "metadata": {
    "colab": {
      "name": "Copy of Untitled0.ipynb",
      "version": "0.3.2",
      "provenance": [],
      "collapsed_sections": [],
      "include_colab_link": true
    },
    "kernelspec": {
      "name": "python3",
      "display_name": "Python 3"
    },
    "accelerator": "GPU"
  },
  "cells": [
    {
      "cell_type": "markdown",
      "metadata": {
        "id": "view-in-github",
        "colab_type": "text"
      },
      "source": [
        "<a href=\"https://colab.research.google.com/github/MrAkimi/hello-world/blob/master/Copy_of_Untitled0.ipynb\" target=\"_parent\"><img src=\"https://colab.research.google.com/assets/colab-badge.svg\" alt=\"Open In Colab\"/></a>"
      ]
    },
    {
      "metadata": {
        "id": "QgEeaF6m2Lv7",
        "colab_type": "code",
        "colab": {
          "base_uri": "https://localhost:8080/",
          "height": 34
        },
        "outputId": "8739a619-f0e5-4ac4-e0bc-1150b46f1a10"
      },
      "cell_type": "code",
      "source": [
        "import tensorflow as tf\n",
        "tf.test.gpu_device_name()"
      ],
      "execution_count": 1,
      "outputs": [
        {
          "output_type": "execute_result",
          "data": {
            "text/plain": [
              "'/device:GPU:0'"
            ]
          },
          "metadata": {
            "tags": []
          },
          "execution_count": 1
        }
      ]
    },
    {
      "metadata": {
        "id": "hPXzmIu3fsNB",
        "colab_type": "code",
        "outputId": "38be5a44-4d05-48b5-f168-d8d9183179fc",
        "colab": {
          "base_uri": "https://localhost:8080/",
          "height": 666
        }
      },
      "cell_type": "code",
      "source": [
        "!pip install keras request idx2numpy"
      ],
      "execution_count": 2,
      "outputs": [
        {
          "output_type": "stream",
          "text": [
            "Requirement already satisfied: keras in /usr/local/lib/python3.6/dist-packages (2.2.4)\n",
            "Collecting request\n",
            "  Downloading https://files.pythonhosted.org/packages/f1/27/7cbde262d854aedf217061a97020d66a63163c5c04e0ec02ff98c5d8f44e/request-2019.4.13.tar.gz\n",
            "Collecting idx2numpy\n",
            "  Downloading https://files.pythonhosted.org/packages/23/6b/abab4652eb249f432c62431907c8de32bdcedb5abdf869ff86653efff981/idx2numpy-1.2.2.tar.gz\n",
            "Requirement already satisfied: keras-preprocessing>=1.0.5 in /usr/local/lib/python3.6/dist-packages (from keras) (1.0.9)\n",
            "Requirement already satisfied: scipy>=0.14 in /usr/local/lib/python3.6/dist-packages (from keras) (1.2.1)\n",
            "Requirement already satisfied: keras-applications>=1.0.6 in /usr/local/lib/python3.6/dist-packages (from keras) (1.0.7)\n",
            "Requirement already satisfied: h5py in /usr/local/lib/python3.6/dist-packages (from keras) (2.8.0)\n",
            "Requirement already satisfied: pyyaml in /usr/local/lib/python3.6/dist-packages (from keras) (3.13)\n",
            "Requirement already satisfied: six>=1.9.0 in /usr/local/lib/python3.6/dist-packages (from keras) (1.11.0)\n",
            "Requirement already satisfied: numpy>=1.9.1 in /usr/local/lib/python3.6/dist-packages (from keras) (1.16.2)\n",
            "Collecting get (from request)\n",
            "  Downloading https://files.pythonhosted.org/packages/3f/ef/bb46f77f7220ac1b7edba0c76d810c89fddb24ddd8c08f337b9b4a618db7/get-2019.4.13.tar.gz\n",
            "Collecting post (from request)\n",
            "  Downloading https://files.pythonhosted.org/packages/0f/05/bd79da5849ea6a92485ed7029ef97b1b75e55c26bc0ed3a7ec769af666f3/post-2019.4.13.tar.gz\n",
            "Requirement already satisfied: setuptools in /usr/local/lib/python3.6/dist-packages (from request) (40.9.0)\n",
            "Collecting query_string (from get->request)\n",
            "  Downloading https://files.pythonhosted.org/packages/12/3c/412a45daf5bea9b1d06d7de41787ec4168001dfa418db7ec8723356b119f/query-string-2019.4.13.tar.gz\n",
            "Collecting public (from query_string->get->request)\n",
            "  Downloading https://files.pythonhosted.org/packages/54/4d/b40004cc6c07665e48af22cfe1e631f219bf4282e15fa76a5b6364f6885c/public-2019.4.13.tar.gz\n",
            "Building wheels for collected packages: request, idx2numpy, get, post, query-string, public\n",
            "  Building wheel for request (setup.py) ... \u001b[?25ldone\n",
            "\u001b[?25h  Stored in directory: /root/.cache/pip/wheels/30/84/5f/484cfba678967ef58c16fce6890925d5c7172622f20111fbfd\n",
            "  Building wheel for idx2numpy (setup.py) ... \u001b[?25ldone\n",
            "\u001b[?25h  Stored in directory: /root/.cache/pip/wheels/7a/b5/69/3e0757b3086607e95db70661798fdf98a77a0bb79c54e1f320\n",
            "  Building wheel for get (setup.py) ... \u001b[?25ldone\n",
            "\u001b[?25h  Stored in directory: /root/.cache/pip/wheels/c1/e3/c1/d02c8c58538853e4c9b78cadb74f6d5c5c370b48a69a7271aa\n",
            "  Building wheel for post (setup.py) ... \u001b[?25ldone\n",
            "\u001b[?25h  Stored in directory: /root/.cache/pip/wheels/c3/c3/24/b5c132b537ab380c02d69e6bd4dec1f5db56b5fe19030473d7\n",
            "  Building wheel for query-string (setup.py) ... \u001b[?25ldone\n",
            "\u001b[?25h  Stored in directory: /root/.cache/pip/wheels/d6/a4/78/01b20a9dc224dcc009fab669f7f27b943b8889c5150bd68d8a\n",
            "  Building wheel for public (setup.py) ... \u001b[?25ldone\n",
            "\u001b[?25h  Stored in directory: /root/.cache/pip/wheels/23/7c/6e/f5b4e09d6596c8b8802b347e48f149031e2363368048f1347a\n",
            "Successfully built request idx2numpy get post query-string public\n",
            "Installing collected packages: public, query-string, get, post, request, idx2numpy\n",
            "Successfully installed get-2019.4.13 idx2numpy-1.2.2 post-2019.4.13 public-2019.4.13 query-string-2019.4.13 request-2019.4.13\n"
          ],
          "name": "stdout"
        }
      ]
    },
    {
      "metadata": {
        "id": "pYpn1g4cfsKB",
        "colab_type": "code",
        "colab": {
          "base_uri": "https://localhost:8080/",
          "height": 34
        },
        "outputId": "6c3afc8a-5da2-439d-a18a-6ff1d4709a89"
      },
      "cell_type": "code",
      "source": [
        "import keras\n",
        "import numpy as np"
      ],
      "execution_count": 3,
      "outputs": [
        {
          "output_type": "stream",
          "text": [
            "Using TensorFlow backend.\n"
          ],
          "name": "stderr"
        }
      ]
    },
    {
      "metadata": {
        "id": "Ix7FPL1MgNbG",
        "colab_type": "text"
      },
      "cell_type": "markdown",
      "source": [
        "# Define the models"
      ]
    },
    {
      "metadata": {
        "id": "53xYJViVeUGE",
        "colab_type": "code",
        "colab": {
          "base_uri": "https://localhost:8080/",
          "height": 139
        },
        "outputId": "6ca16c61-77ad-4031-c7ae-825b34ea0e60"
      },
      "cell_type": "code",
      "source": [
        "mobile_net = keras.applications.mobilenet.MobileNet(input_shape=(32, 32, 1), alpha=1.0, depth_multiplier=1, dropout=1e-3, include_top=True, weights=None, input_tensor=None, pooling=None, classes=10) # set inlude top if you dont want to use the default input size of (224, 224, 3)\n",
        "vgg16 = keras.applications.vgg16.VGG16(include_top=True, weights=None, input_tensor=None, input_shape=(48, 48, 1), pooling=None, classes=10)\n",
        "inception_v3 = keras.applications.inception_v3.InceptionV3(include_top=True, weights=None, input_tensor=None, input_shape=(139, 139,1), pooling=None, classes=10)"
      ],
      "execution_count": 4,
      "outputs": [
        {
          "output_type": "stream",
          "text": [
            "WARNING:tensorflow:From /usr/local/lib/python3.6/dist-packages/tensorflow/python/framework/op_def_library.py:263: colocate_with (from tensorflow.python.framework.ops) is deprecated and will be removed in a future version.\n",
            "Instructions for updating:\n",
            "Colocations handled automatically by placer.\n",
            "WARNING:tensorflow:From /usr/local/lib/python3.6/dist-packages/keras/backend/tensorflow_backend.py:3445: calling dropout (from tensorflow.python.ops.nn_ops) with keep_prob is deprecated and will be removed in a future version.\n",
            "Instructions for updating:\n",
            "Please use `rate` instead of `keep_prob`. Rate should be set to `rate = 1 - keep_prob`.\n"
          ],
          "name": "stdout"
        }
      ]
    },
    {
      "metadata": {
        "id": "pYAp-cZp3Hkl",
        "colab_type": "text"
      },
      "cell_type": "markdown",
      "source": [
        "# Get the Fashion MNIST dataset"
      ]
    },
    {
      "metadata": {
        "id": "Xs9ATm4Ofwf7",
        "colab_type": "code",
        "colab": {}
      },
      "cell_type": "code",
      "source": [
        "import urllib.request\n",
        "import gzip\n",
        "import idx2numpy\n",
        "\n",
        "\n",
        "def load_data():\n",
        "    \"\"\"Loads the Fashion MNIST dataset.\n",
        "    # Arguments\n",
        "        path: path where to cache the dataset locally\n",
        "            (relative to ~/.keras/datasets).\n",
        "    # Returns\n",
        "        Tuple of Numpy arrays: `(x_train, y_train), (x_test, y_test)`.\n",
        "    \"\"\"\n",
        "\n",
        "    path_x_train = urllib.request.urlretrieve('http://fashion-mnist.s3-website.eu-central-1.amazonaws.com/train-images-idx3-ubyte.gz', 'train-images-idx3-ubyte.gz')\n",
        "    path_y_train = urllib.request.urlretrieve('http://fashion-mnist.s3-website.eu-central-1.amazonaws.com/train-labels-idx1-ubyte.gz', 'train-labels-idx1-ubyte.gz')\n",
        "    path_x_test = urllib.request.urlretrieve('http://fashion-mnist.s3-website.eu-central-1.amazonaws.com/t10k-images-idx3-ubyte.gz', 't10k-images-idx3-ubyte.gz')\n",
        "    path_y_test = urllib.request.urlretrieve('http://fashion-mnist.s3-website.eu-central-1.amazonaws.com/t10k-labels-idx1-ubyte.gz', 't10k-labels-idx1-ubyte.gz')\n",
        "\n",
        "    with gzip.open('train-images-idx3-ubyte.gz', 'rb') as f:\n",
        "        x_train = idx2numpy.convert_from_string(f.read())\n",
        "    with gzip.open('train-labels-idx1-ubyte.gz', 'rb') as f:\n",
        "        y_train = idx2numpy.convert_from_string(f.read())\n",
        "    with gzip.open('t10k-images-idx3-ubyte.gz', 'rb') as f:\n",
        "        x_test = idx2numpy.convert_from_string(f.read())\n",
        "    with gzip.open('t10k-labels-idx1-ubyte.gz', 'rb') as f:\n",
        "        y_test  = idx2numpy.convert_from_string(f.read())\n",
        "\n",
        "    return (x_train, y_train), (x_test, y_test)"
      ],
      "execution_count": 0,
      "outputs": []
    },
    {
      "metadata": {
        "id": "74Ihf1hVgwqM",
        "colab_type": "code",
        "outputId": "9da3d3cd-3a56-4691-ee18-c97f5328cd0d",
        "colab": {
          "base_uri": "https://localhost:8080/",
          "height": 85
        }
      },
      "cell_type": "code",
      "source": [
        "batch_size = 128\n",
        "num_classes = 10\n",
        "epochs = 12\n",
        "\n",
        "(x_train, y_train), (x_test, y_test) = load_data()\n",
        "\n",
        "x_train = x_train.reshape(x_train.shape[0], 28, 28, 1)\n",
        "x_test = x_test.reshape(x_test.shape[0], 28, 28, 1)\n",
        "\n",
        "x_train = x_train.astype('float32')\n",
        "x_test = x_test.astype('float32')\n",
        "x_train /= 255\n",
        "x_test /= 255\n",
        "\n",
        "print('x_train shape:', x_train.shape)\n",
        "print('x_train shape:', x_test.shape)\n",
        "\n",
        "y_train = keras.utils.to_categorical(y_train, num_classes)\n",
        "y_test = keras.utils.to_categorical(y_test, num_classes)\n",
        "\n",
        "\n",
        "print('y_train shape:', y_train.shape)\n",
        "print('y_test shape:', y_test.shape)"
      ],
      "execution_count": 6,
      "outputs": [
        {
          "output_type": "stream",
          "text": [
            "x_train shape: (60000, 28, 28, 1)\n",
            "x_train shape: (10000, 28, 28, 1)\n",
            "y_train shape: (60000, 10)\n",
            "y_test shape: (10000, 10)\n"
          ],
          "name": "stdout"
        }
      ]
    },
    {
      "metadata": {
        "id": "gK5ByeWe3TWh",
        "colab_type": "text"
      },
      "cell_type": "markdown",
      "source": [
        "# Train the Mobile Net"
      ]
    },
    {
      "metadata": {
        "id": "x99jy4DajaPs",
        "colab_type": "code",
        "outputId": "7f31ec70-20d8-41bf-d3bc-8eb238594579",
        "colab": {
          "base_uri": "https://localhost:8080/",
          "height": 666
        }
      },
      "cell_type": "code",
      "source": [
        "print('x_train shape:', x_train.shape)\n",
        "print('x_test shape:', x_test.shape)\n",
        "\n",
        "x_train_padded = np.pad(x_train, ((0,0), (2,2), (2,2), (0,0)), mode='constant')\n",
        "x_test_padded = np.pad(x_test, ((0,0), (2,2), (2,2), (0,0)), mode='constant')\n",
        "\n",
        "print('x_train shape:', x_train_padded.shape)\n",
        "print('x_test shape:', x_test_padded.shape)\n",
        "\n",
        "\n",
        "mobile_net.compile(loss=keras.losses.categorical_crossentropy,\n",
        "              optimizer=keras.optimizers.Adadelta(),\n",
        "              metrics=['accuracy'])\n",
        "\n",
        "mobile_net.fit(x_train_padded, y_train,\n",
        "          batch_size=batch_size,\n",
        "          epochs=epochs,\n",
        "          verbose=1,\n",
        "          validation_data=(x_test_padded, y_test))\n",
        "score = mobile_net.evaluate(x_test_padded, y_test, verbose=0)\n",
        "print('Test loss:', score[0])\n",
        "print('Test accuracy:', score[1])"
      ],
      "execution_count": 7,
      "outputs": [
        {
          "output_type": "stream",
          "text": [
            "x_train shape: (60000, 28, 28, 1)\n",
            "x_test shape: (10000, 28, 28, 1)\n",
            "x_train shape: (60000, 32, 32, 1)\n",
            "x_test shape: (10000, 32, 32, 1)\n",
            "WARNING:tensorflow:From /usr/local/lib/python3.6/dist-packages/tensorflow/python/ops/math_ops.py:3066: to_int32 (from tensorflow.python.ops.math_ops) is deprecated and will be removed in a future version.\n",
            "Instructions for updating:\n",
            "Use tf.cast instead.\n",
            "WARNING:tensorflow:From /usr/local/lib/python3.6/dist-packages/tensorflow/python/ops/math_grad.py:102: div (from tensorflow.python.ops.math_ops) is deprecated and will be removed in a future version.\n",
            "Instructions for updating:\n",
            "Deprecated in favor of operator or tf.math.divide.\n",
            "Train on 60000 samples, validate on 10000 samples\n",
            "Epoch 1/12\n",
            "60000/60000 [==============================] - 28s 474us/step - loss: 0.7202 - acc: 0.7401 - val_loss: 0.7222 - val_acc: 0.8022\n",
            "Epoch 2/12\n",
            "60000/60000 [==============================] - 17s 282us/step - loss: 0.4056 - acc: 0.8519 - val_loss: 0.5595 - val_acc: 0.8261\n",
            "Epoch 3/12\n",
            "60000/60000 [==============================] - 17s 281us/step - loss: 0.3395 - acc: 0.8748 - val_loss: 0.4327 - val_acc: 0.8483\n",
            "Epoch 4/12\n",
            "60000/60000 [==============================] - 17s 291us/step - loss: 0.2975 - acc: 0.8899 - val_loss: 0.3751 - val_acc: 0.8687\n",
            "Epoch 5/12\n",
            "60000/60000 [==============================] - 17s 290us/step - loss: 0.2650 - acc: 0.9018 - val_loss: 0.4755 - val_acc: 0.8346\n",
            "Epoch 6/12\n",
            "60000/60000 [==============================] - 17s 287us/step - loss: 0.2442 - acc: 0.9112 - val_loss: 0.3214 - val_acc: 0.8913\n",
            "Epoch 7/12\n",
            "60000/60000 [==============================] - 17s 283us/step - loss: 0.2184 - acc: 0.9192 - val_loss: 0.3196 - val_acc: 0.8949\n",
            "Epoch 8/12\n",
            "60000/60000 [==============================] - 17s 282us/step - loss: 0.2004 - acc: 0.9243 - val_loss: 0.2962 - val_acc: 0.8969\n",
            "Epoch 9/12\n",
            "60000/60000 [==============================] - 17s 282us/step - loss: 0.1840 - acc: 0.9312 - val_loss: 0.3406 - val_acc: 0.8896\n",
            "Epoch 10/12\n",
            "60000/60000 [==============================] - 18s 293us/step - loss: 0.1723 - acc: 0.9355 - val_loss: 0.3058 - val_acc: 0.8973\n",
            "Epoch 11/12\n",
            "60000/60000 [==============================] - 17s 283us/step - loss: 0.1549 - acc: 0.9424 - val_loss: 0.3559 - val_acc: 0.8915\n",
            "Epoch 12/12\n",
            "60000/60000 [==============================] - 17s 281us/step - loss: 0.1453 - acc: 0.9461 - val_loss: 0.3454 - val_acc: 0.8862\n",
            "Test loss: 0.3453544881105423\n",
            "Test accuracy: 0.8862\n"
          ],
          "name": "stdout"
        }
      ]
    },
    {
      "metadata": {
        "id": "XnLDa3tr3ZKb",
        "colab_type": "text"
      },
      "cell_type": "markdown",
      "source": [
        "# Train the Vgg16"
      ]
    },
    {
      "metadata": {
        "id": "c4nRPpzlsG1p",
        "colab_type": "code",
        "outputId": "4b60625f-7e9f-4d3a-e896-8de3e8d32a17",
        "colab": {
          "base_uri": "https://localhost:8080/",
          "height": 462
        }
      },
      "cell_type": "code",
      "source": [
        "print('x_train shape:', x_train.shape)\n",
        "print('x_test shape:', x_test.shape)\n",
        "\n",
        "x_train_padded = np.pad(x_train, ((0,0), (10,10), (10,10), (0,0)), mode='constant')\n",
        "x_test_padded = np.pad(x_test, ((0,0), (10,10), (10,10), (0,0)), mode='constant')\n",
        "\n",
        "print('x_train shape:', x_train_padded.shape)\n",
        "print('x_test shape:', x_test_padded.shape)\n",
        "\n",
        "\n",
        "vgg16.compile(loss=keras.losses.categorical_crossentropy,\n",
        "              optimizer=keras.optimizers.Adadelta(),\n",
        "              metrics=['accuracy'])\n",
        "\n",
        "vgg16.fit(x_train_padded, y_train,\n",
        "          batch_size=batch_size,\n",
        "          epochs=epochs,\n",
        "          verbose=1,\n",
        "          validation_data=(x_test_padded, y_test))\n",
        "score = vgg16.evaluate(x_test_padded, y_test, verbose=0)\n",
        "print('Test loss:', score[0])\n",
        "print('Test accuracy:', score[1])"
      ],
      "execution_count": 0,
      "outputs": [
        {
          "output_type": "stream",
          "text": [
            "x_train shape: (60000, 28, 28, 1)\n",
            "x_test shape: (10000, 28, 28, 1)\n",
            "x_train shape: (60000, 48, 48, 1)\n",
            "x_test shape: (10000, 48, 48, 1)\n",
            "Train on 60000 samples, validate on 10000 samples\n",
            "Epoch 1/12\n",
            "45440/60000 [=====================>........] - ETA: 39s - loss: 2.3054 - acc: 0.1056"
          ],
          "name": "stdout"
        },
        {
          "output_type": "stream",
          "text": [
            "60000/60000 [==============================] - 167s 3ms/step - loss: 2.3048 - acc: 0.1045 - val_loss: 2.3026 - val_acc: 0.1000\n",
            "Epoch 2/12\n",
            "51712/60000 [========================>.....] - ETA: 20s - loss: 2.3027 - acc: 0.1008"
          ],
          "name": "stdout"
        },
        {
          "output_type": "stream",
          "text": [
            "60000/60000 [==============================] - 154s 3ms/step - loss: 2.3027 - acc: 0.1002 - val_loss: 2.3026 - val_acc: 0.1000\n",
            "Epoch 3/12\n",
            "54144/60000 [==========================>...] - ETA: 14s - loss: 1.9920 - acc: 0.1996"
          ],
          "name": "stdout"
        },
        {
          "output_type": "stream",
          "text": [
            "60000/60000 [==============================] - 154s 3ms/step - loss: 1.9068 - acc: 0.2308 - val_loss: 0.9976 - val_acc: 0.5602\n",
            "Epoch 4/12\n",
            "55040/60000 [==========================>...] - ETA: 12s - loss: 0.6622 - acc: 0.7420"
          ],
          "name": "stdout"
        },
        {
          "output_type": "stream",
          "text": [
            "60000/60000 [==============================] - 155s 3ms/step - loss: 0.6448 - acc: 0.7498 - val_loss: 0.4852 - val_acc: 0.8251\n",
            "Epoch 5/12\n",
            "55424/60000 [==========================>...] - ETA: 11s - loss: 0.3845 - acc: 0.8587"
          ],
          "name": "stdout"
        },
        {
          "output_type": "stream",
          "text": [
            "60000/60000 [==============================] - 155s 3ms/step - loss: 0.3806 - acc: 0.8603 - val_loss: 0.4335 - val_acc: 0.8385\n",
            "Epoch 6/12\n",
            "55552/60000 [==========================>...] - ETA: 10s - loss: 0.3118 - acc: 0.8858"
          ],
          "name": "stdout"
        },
        {
          "output_type": "stream",
          "text": [
            "60000/60000 [==============================] - 154s 3ms/step - loss: 0.3106 - acc: 0.8863 - val_loss: 0.3124 - val_acc: 0.8866\n",
            "Epoch 7/12\n",
            "55552/60000 [==========================>...] - ETA: 10s - loss: 0.2662 - acc: 0.9031"
          ],
          "name": "stdout"
        },
        {
          "output_type": "stream",
          "text": [
            "60000/60000 [==============================] - 154s 3ms/step - loss: 0.2656 - acc: 0.9033 - val_loss: 0.3077 - val_acc: 0.8915\n",
            "Epoch 8/12\n",
            "55552/60000 [==========================>...] - ETA: 10s - loss: 0.2368 - acc: 0.9126"
          ],
          "name": "stdout"
        },
        {
          "output_type": "stream",
          "text": [
            "60000/60000 [==============================] - 154s 3ms/step - loss: 0.2364 - acc: 0.9128 - val_loss: 0.3039 - val_acc: 0.8960\n",
            "Epoch 9/12\n",
            "55552/60000 [==========================>...] - ETA: 10s - loss: 0.2109 - acc: 0.9234"
          ],
          "name": "stdout"
        },
        {
          "output_type": "stream",
          "text": [
            "60000/60000 [==============================] - 154s 3ms/step - loss: 0.2107 - acc: 0.9237 - val_loss: 0.2608 - val_acc: 0.9101\n",
            "Epoch 10/12\n",
            "55296/60000 [==========================>...] - ETA: 11s - loss: 0.1920 - acc: 0.9303"
          ],
          "name": "stdout"
        },
        {
          "output_type": "stream",
          "text": [
            "58880/60000 [============================>.] - ETA: 2s - loss: 0.1919 - acc: 0.9303"
          ],
          "name": "stdout"
        }
      ]
    },
    {
      "metadata": {
        "id": "kXfYtDq_3wZa",
        "colab_type": "code",
        "colab": {}
      },
      "cell_type": "code",
      "source": [
        ""
      ],
      "execution_count": 0,
      "outputs": []
    }
  ]
}